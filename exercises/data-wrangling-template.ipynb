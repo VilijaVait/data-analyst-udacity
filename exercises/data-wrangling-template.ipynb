{
 "cells": [
  {
   "cell_type": "markdown",
   "metadata": {},
   "source": [
    "# Data Wrangling Template"
   ]
  },
  {
   "cell_type": "markdown",
   "metadata": {},
   "source": [
    "https://www.kaggle.com/udacity/armenian-online-job-postings/"
   ]
  },
  {
   "cell_type": "markdown",
   "metadata": {},
   "source": [
    "#### Armenian Online Job Postings\n",
    "19,000 online job postings from 2004 to 2015 from Armenia's CareerCenter\n",
    "\n",
    "#### Acknowledgements\n",
    "\n",
    "The data collection and initial research were funded by the American University of Armenia’s research grant (2015).\n",
    "\n",
    "Habet Madoyan, CEO at Datamotus, compiled this dataset and has granted us permission to republish. The republished dataset is identical to the original dataset, which can be found here. Datamotus also published a report detailing the text mining techniques used, plus analyses and visualizations of the data."
   ]
  },
  {
   "cell_type": "markdown",
   "metadata": {},
   "source": [
    "## Gather"
   ]
  },
  {
   "cell_type": "code",
   "execution_count": 1,
   "metadata": {},
   "outputs": [],
   "source": [
    "import zipfile as zf\n",
    "import pandas as pd"
   ]
  },
  {
   "cell_type": "code",
   "execution_count": 2,
   "metadata": {},
   "outputs": [],
   "source": [
    "with zf.ZipFile('armenian-online-job-postings.zip','r') as myzip:\n",
    "    myzip.extractall()"
   ]
  },
  {
   "cell_type": "code",
   "execution_count": 3,
   "metadata": {},
   "outputs": [
    {
     "data": {
      "text/html": [
       "<div>\n",
       "<style scoped>\n",
       "    .dataframe tbody tr th:only-of-type {\n",
       "        vertical-align: middle;\n",
       "    }\n",
       "\n",
       "    .dataframe tbody tr th {\n",
       "        vertical-align: top;\n",
       "    }\n",
       "\n",
       "    .dataframe thead th {\n",
       "        text-align: right;\n",
       "    }\n",
       "</style>\n",
       "<table border=\"1\" class=\"dataframe\">\n",
       "  <thead>\n",
       "    <tr style=\"text-align: right;\">\n",
       "      <th></th>\n",
       "      <th>jobpost</th>\n",
       "      <th>date</th>\n",
       "      <th>Title</th>\n",
       "      <th>Company</th>\n",
       "      <th>AnnouncementCode</th>\n",
       "      <th>Term</th>\n",
       "      <th>Eligibility</th>\n",
       "      <th>Audience</th>\n",
       "      <th>StartDate</th>\n",
       "      <th>Duration</th>\n",
       "      <th>...</th>\n",
       "      <th>Salary</th>\n",
       "      <th>ApplicationP</th>\n",
       "      <th>OpeningDate</th>\n",
       "      <th>Deadline</th>\n",
       "      <th>Notes</th>\n",
       "      <th>AboutC</th>\n",
       "      <th>Attach</th>\n",
       "      <th>Year</th>\n",
       "      <th>Month</th>\n",
       "      <th>IT</th>\n",
       "    </tr>\n",
       "  </thead>\n",
       "  <tbody>\n",
       "    <tr>\n",
       "      <th>0</th>\n",
       "      <td>AMERIA Investment Consulting Company\\r\\nJOB TI...</td>\n",
       "      <td>Jan 5, 2004</td>\n",
       "      <td>Chief Financial Officer</td>\n",
       "      <td>AMERIA Investment Consulting Company</td>\n",
       "      <td>NaN</td>\n",
       "      <td>NaN</td>\n",
       "      <td>NaN</td>\n",
       "      <td>NaN</td>\n",
       "      <td>NaN</td>\n",
       "      <td>NaN</td>\n",
       "      <td>...</td>\n",
       "      <td>NaN</td>\n",
       "      <td>To apply for this position, please submit a\\r\\...</td>\n",
       "      <td>NaN</td>\n",
       "      <td>26 January 2004</td>\n",
       "      <td>NaN</td>\n",
       "      <td>NaN</td>\n",
       "      <td>NaN</td>\n",
       "      <td>2004</td>\n",
       "      <td>1</td>\n",
       "      <td>False</td>\n",
       "    </tr>\n",
       "    <tr>\n",
       "      <th>1</th>\n",
       "      <td>International Research &amp; Exchanges Board (IREX...</td>\n",
       "      <td>Jan 7, 2004</td>\n",
       "      <td>Full-time Community Connections Intern (paid i...</td>\n",
       "      <td>International Research &amp; Exchanges Board (IREX)</td>\n",
       "      <td>NaN</td>\n",
       "      <td>NaN</td>\n",
       "      <td>NaN</td>\n",
       "      <td>NaN</td>\n",
       "      <td>NaN</td>\n",
       "      <td>3 months</td>\n",
       "      <td>...</td>\n",
       "      <td>NaN</td>\n",
       "      <td>Please submit a cover letter and resume to:\\r\\...</td>\n",
       "      <td>NaN</td>\n",
       "      <td>12 January 2004</td>\n",
       "      <td>NaN</td>\n",
       "      <td>The International Research &amp; Exchanges Board (...</td>\n",
       "      <td>NaN</td>\n",
       "      <td>2004</td>\n",
       "      <td>1</td>\n",
       "      <td>False</td>\n",
       "    </tr>\n",
       "  </tbody>\n",
       "</table>\n",
       "<p>2 rows × 24 columns</p>\n",
       "</div>"
      ],
      "text/plain": [
       "                                             jobpost         date  \\\n",
       "0  AMERIA Investment Consulting Company\\r\\nJOB TI...  Jan 5, 2004   \n",
       "1  International Research & Exchanges Board (IREX...  Jan 7, 2004   \n",
       "\n",
       "                                               Title  \\\n",
       "0                            Chief Financial Officer   \n",
       "1  Full-time Community Connections Intern (paid i...   \n",
       "\n",
       "                                           Company AnnouncementCode Term  \\\n",
       "0             AMERIA Investment Consulting Company              NaN  NaN   \n",
       "1  International Research & Exchanges Board (IREX)              NaN  NaN   \n",
       "\n",
       "  Eligibility Audience StartDate  Duration  ... Salary  \\\n",
       "0         NaN      NaN       NaN       NaN  ...    NaN   \n",
       "1         NaN      NaN       NaN  3 months  ...    NaN   \n",
       "\n",
       "                                        ApplicationP OpeningDate  \\\n",
       "0  To apply for this position, please submit a\\r\\...         NaN   \n",
       "1  Please submit a cover letter and resume to:\\r\\...         NaN   \n",
       "\n",
       "          Deadline Notes                                             AboutC  \\\n",
       "0  26 January 2004   NaN                                                NaN   \n",
       "1  12 January 2004   NaN  The International Research & Exchanges Board (...   \n",
       "\n",
       "  Attach  Year Month     IT  \n",
       "0    NaN  2004     1  False  \n",
       "1    NaN  2004     1  False  \n",
       "\n",
       "[2 rows x 24 columns]"
      ]
     },
     "execution_count": 3,
     "metadata": {},
     "output_type": "execute_result"
    }
   ],
   "source": [
    "df = pd.read_csv('online-job-postings.csv')\n",
    "df.head(2)"
   ]
  },
  {
   "cell_type": "markdown",
   "metadata": {},
   "source": [
    "## Assess"
   ]
  },
  {
   "cell_type": "code",
   "execution_count": 4,
   "metadata": {},
   "outputs": [
    {
     "name": "stdout",
     "output_type": "stream",
     "text": [
      "<class 'pandas.core.frame.DataFrame'>\n",
      "RangeIndex: 19001 entries, 0 to 19000\n",
      "Data columns (total 24 columns):\n",
      "jobpost             19001 non-null object\n",
      "date                19001 non-null object\n",
      "Title               18973 non-null object\n",
      "Company             18994 non-null object\n",
      "AnnouncementCode    1208 non-null object\n",
      "Term                7676 non-null object\n",
      "Eligibility         4930 non-null object\n",
      "Audience            640 non-null object\n",
      "StartDate           9675 non-null object\n",
      "Duration            10798 non-null object\n",
      "Location            18969 non-null object\n",
      "JobDescription      15109 non-null object\n",
      "JobRequirment       16479 non-null object\n",
      "RequiredQual        18517 non-null object\n",
      "Salary              9622 non-null object\n",
      "ApplicationP        18941 non-null object\n",
      "OpeningDate         18295 non-null object\n",
      "Deadline            18936 non-null object\n",
      "Notes               2211 non-null object\n",
      "AboutC              12470 non-null object\n",
      "Attach              1559 non-null object\n",
      "Year                19001 non-null int64\n",
      "Month               19001 non-null int64\n",
      "IT                  19001 non-null bool\n",
      "dtypes: bool(1), int64(2), object(21)\n",
      "memory usage: 3.4+ MB\n"
     ]
    }
   ],
   "source": [
    "df.info()"
   ]
  },
  {
   "cell_type": "code",
   "execution_count": 5,
   "metadata": {},
   "outputs": [
    {
     "data": {
      "text/plain": [
       "2012    2149\n",
       "2015    2009\n",
       "2013    2009\n",
       "2014    1983\n",
       "2008    1785\n",
       "2011    1697\n",
       "2007    1538\n",
       "2010    1511\n",
       "2009    1191\n",
       "2005    1138\n",
       "2006    1116\n",
       "2004     875\n",
       "Name: Year, dtype: int64"
      ]
     },
     "execution_count": 5,
     "metadata": {},
     "output_type": "execute_result"
    }
   ],
   "source": [
    "df['Year'].value_counts()"
   ]
  },
  {
   "cell_type": "code",
   "execution_count": 6,
   "metadata": {},
   "outputs": [
    {
     "data": {
      "text/plain": [
       "39"
      ]
     },
     "execution_count": 6,
     "metadata": {},
     "output_type": "execute_result"
    }
   ],
   "source": [
    "sum(df.duplicated())"
   ]
  },
  {
   "cell_type": "markdown",
   "metadata": {},
   "source": [
    "* Missing values (NaNs)\n",
    "* StartDate inconsistencies\n",
    "* Fix non discriptive column headers (ApplicationP, AboutC,...)"
   ]
  },
  {
   "cell_type": "markdown",
   "metadata": {},
   "source": [
    "## Clean"
   ]
  },
  {
   "cell_type": "markdown",
   "metadata": {},
   "source": [
    "#### Define\n",
    "* StartDate inconsistencies - replace all relevant records with ASAP\n",
    "* fix non discriptive column headers (ApplicationP, AboutC,...) - replace all relevant column headers with full word headers"
   ]
  },
  {
   "cell_type": "markdown",
   "metadata": {},
   "source": [
    "#### Code"
   ]
  },
  {
   "cell_type": "code",
   "execution_count": 7,
   "metadata": {},
   "outputs": [],
   "source": [
    "df_clean = df.copy()\n",
    "df_clean = df_clean.rename(columns={'ApplicationP':'ApplicationProcedure',\n",
    "                                   'AboutC':'AboutCompany',\n",
    "                                   'RequiredQual':'RequiredQualifications',\n",
    "                                   'JobRequirment':'JobRequirements'})"
   ]
  },
  {
   "cell_type": "code",
   "execution_count": 8,
   "metadata": {},
   "outputs": [
    {
     "data": {
      "text/plain": [
       "ASAP                                                                                                                         4754\n",
       "Immediately                                                                                                                   773\n",
       "As soon as possible                                                                                                           543\n",
       "Upon hiring                                                                                                                   261\n",
       "Immediate                                                                                                                     259\n",
       "Immediate employment                                                                                                          140\n",
       "As soon as possible.                                                                                                           32\n",
       "01 September 2012                                                                                                              31\n",
       "March 2006                                                                                                                     27\n",
       "November 2006                                                                                                                  22\n",
       "January 2010                                                                                                                   19\n",
       "February 2014                                                                                                                  17\n",
       "01 February 2005                                                                                                               17\n",
       "Immediate job opportunity                                                                                                      17\n",
       "February 2011                                                                                                                  16\n",
       "TBD                                                                                                                            16\n",
       "September 2010                                                                                                                 16\n",
       "September 2008                                                                                                                 15\n",
       "March 2011                                                                                                                     15\n",
       "February 2007                                                                                                                  14\n",
       "01 July 2014                                                                                                                   14\n",
       "01 February 2015                                                                                                               14\n",
       "January 2016                                                                                                                   13\n",
       "01 September 2010                                                                                                              13\n",
       "01 September 2008                                                                                                              13\n",
       "01 March 2006                                                                                                                  13\n",
       "01 April 2014                                                                                                                  12\n",
       "01 March 2012                                                                                                                  12\n",
       "01 October 2008                                                                                                                12\n",
       "Fall 2010                                                                                                                      12\n",
       "                                                                                                                             ... \n",
       "December 2008/ January 2009                                                                                                     1\n",
       "14 February 2005                                                                                                                1\n",
       "Beginning of March 2006                                                                                                         1\n",
       "1 May 2005                                                                                                                      1\n",
       "April 2005 or as agreed                                                                                                         1\n",
       "01 December  2012                                                                                                               1\n",
       "10 March 2011                                                                                                                   1\n",
       "Mid-August, 2004                                                                                                                1\n",
       "27 February 2005                                                                                                                1\n",
       "Mid January 2012                                                                                                                1\n",
       "July                                                                                                                            1\n",
       "09 August 2004                                                                                                                  1\n",
       "13 January 2008, at 11:30 a.m.                                                                                                  1\n",
       "August/ September 2010                                                                                                          1\n",
       "Friday, 2004 04 23 18:00                                                                                                        1\n",
       "26 August 2014                                                                                                                  1\n",
       "July 2014                                                                                                                       1\n",
       "Begining of November 2005                                                                                                       1\n",
       "09 April 2009                                                                                                                   1\n",
       "02 April 2012                                                                                                                   1\n",
       "1 July 2013                                                                                                                     1\n",
       "The course is planned in the first half of October;\\r\\nthe exact dates will be announced in July 2008.                          1\n",
       "Two week general training course 13  26 September,\\r\\n2004 . One month on-the-job training 27 September  25 October, 2004       1\n",
       "Mid April                                                                                                                       1\n",
       "08 July 2013                                                                                                                    1\n",
       "30 March, 19:00-21:00                                                                                                           1\n",
       "10 August 2009                                                                                                                  1\n",
       "February  2007                                                                                                                  1\n",
       "July, 2004                                                                                                                      1\n",
       "June-July 2012                                                                                                                  1\n",
       "Name: StartDate, Length: 1186, dtype: int64"
      ]
     },
     "execution_count": 8,
     "metadata": {},
     "output_type": "execute_result"
    }
   ],
   "source": [
    "df_clean['StartDate'].value_counts()"
   ]
  },
  {
   "cell_type": "code",
   "execution_count": 9,
   "metadata": {},
   "outputs": [],
   "source": [
    "asap_list = ['Immediately', 'As soon as possible', 'Upon hiring',\n",
    "             'Immediate', 'Immediate employment', 'As soon as possible.', 'Immediate job opportunity',\n",
    "             '\"Immediate employment, after passing the interview.\"',\n",
    "             'ASAP preferred', 'Employment contract signature date',\n",
    "             'Immediate employment opportunity', 'Immidiately', 'ASA',\n",
    "             'Asap', '\"The position is open immediately but has a flexible start date depending on the candidates earliest availability.\"',\n",
    "             'Immediately upon agreement', '20 November 2014 or ASAP',\n",
    "             'immediately', 'Immediatelly',\n",
    "             '\"Immediately upon selection or no later than November 15, 2009.\"',\n",
    "             'Immediate job opening', 'Immediate hiring', 'Upon selection',\n",
    "             'As soon as practical', 'Immadiate', 'As soon as posible',\n",
    "             'Immediately with 2 months probation period',\n",
    "             '12 November 2012 or ASAP', 'Immediate employment after passing the interview',\n",
    "             'Immediately/ upon agreement', '01 September 2014 or ASAP',\n",
    "             'Immediately or as per agreement', 'as soon as possible',\n",
    "             'As soon as Possible', 'in the nearest future', 'immediate',\n",
    "             '01 April 2014 or ASAP', 'Immidiatly', 'Urgent',\n",
    "             'Immediate or earliest possible', 'Immediate hire',\n",
    "             'Earliest  possible', 'ASAP with 3 months probation period.',\n",
    "             'Immediate employment opportunity.', 'Immediate employment.',\n",
    "             'Immidietly', 'Imminent', 'September 2014 or ASAP', 'Imediately']\n",
    "\n",
    "for entry in asap_list:\n",
    "    df_clean.StartDate.replace(to_replace=entry,value='ASAP', inplace=True)"
   ]
  },
  {
   "cell_type": "markdown",
   "metadata": {},
   "source": [
    "#### Test"
   ]
  },
  {
   "cell_type": "code",
   "execution_count": 10,
   "metadata": {},
   "outputs": [
    {
     "name": "stdout",
     "output_type": "stream",
     "text": [
      "<class 'pandas.core.frame.DataFrame'>\n",
      "RangeIndex: 19001 entries, 0 to 19000\n",
      "Data columns (total 24 columns):\n",
      "jobpost                   19001 non-null object\n",
      "date                      19001 non-null object\n",
      "Title                     18973 non-null object\n",
      "Company                   18994 non-null object\n",
      "AnnouncementCode          1208 non-null object\n",
      "Term                      7676 non-null object\n",
      "Eligibility               4930 non-null object\n",
      "Audience                  640 non-null object\n",
      "StartDate                 9675 non-null object\n",
      "Duration                  10798 non-null object\n",
      "Location                  18969 non-null object\n",
      "JobDescription            15109 non-null object\n",
      "JobRequirements           16479 non-null object\n",
      "RequiredQualifications    18517 non-null object\n",
      "Salary                    9622 non-null object\n",
      "ApplicationProcedure      18941 non-null object\n",
      "OpeningDate               18295 non-null object\n",
      "Deadline                  18936 non-null object\n",
      "Notes                     2211 non-null object\n",
      "AboutCompany              12470 non-null object\n",
      "Attach                    1559 non-null object\n",
      "Year                      19001 non-null int64\n",
      "Month                     19001 non-null int64\n",
      "IT                        19001 non-null bool\n",
      "dtypes: bool(1), int64(2), object(21)\n",
      "memory usage: 3.4+ MB\n"
     ]
    }
   ],
   "source": [
    "df_clean.info()"
   ]
  },
  {
   "cell_type": "code",
   "execution_count": 11,
   "metadata": {},
   "outputs": [
    {
     "data": {
      "text/plain": [
       "ASAP                                                                                                                         6856\n",
       "01 September 2012                                                                                                              31\n",
       "March 2006                                                                                                                     27\n",
       "November 2006                                                                                                                  22\n",
       "January 2010                                                                                                                   19\n",
       "01 February 2005                                                                                                               17\n",
       "February 2014                                                                                                                  17\n",
       "September 2010                                                                                                                 16\n",
       "February 2011                                                                                                                  16\n",
       "TBD                                                                                                                            16\n",
       "March 2011                                                                                                                     15\n",
       "September 2008                                                                                                                 15\n",
       "February 2007                                                                                                                  14\n",
       "01 July 2014                                                                                                                   14\n",
       "01 February 2015                                                                                                               14\n",
       "January 2016                                                                                                                   13\n",
       "01 September 2008                                                                                                              13\n",
       "01 March 2006                                                                                                                  13\n",
       "01 September 2010                                                                                                              13\n",
       "September 2013                                                                                                                 12\n",
       "Fall 2010                                                                                                                      12\n",
       "June 2008                                                                                                                      12\n",
       "01 April 2014                                                                                                                  12\n",
       "01 March 2012                                                                                                                  12\n",
       "01 October 2008                                                                                                                12\n",
       "01 October 2012                                                                                                                12\n",
       "January 2011                                                                                                                   11\n",
       "February 2008                                                                                                                  11\n",
       "01 April 2012                                                                                                                  11\n",
       "01 September 2004                                                                                                              11\n",
       "                                                                                                                             ... \n",
       "19 March 2010, 19:00                                                                                                            1\n",
       "December 2008/ January 2009                                                                                                     1\n",
       "01 January 2007                                                                                                                 1\n",
       "14 February 2005                                                                                                                1\n",
       "Mid-August, 2004                                                                                                                1\n",
       "31 Aug & 01 Sep  or  02 & 03 Sep 2004                                                                                           1\n",
       "27 February 2005                                                                                                                1\n",
       "Mid January 2012                                                                                                                1\n",
       "July                                                                                                                            1\n",
       "09 August 2004                                                                                                                  1\n",
       "13 January 2008, at 11:30 a.m.                                                                                                  1\n",
       "August/ September 2010                                                                                                          1\n",
       "Friday, 2004 04 23 18:00                                                                                                        1\n",
       "26 August 2014                                                                                                                  1\n",
       "April 2005 or as agreed                                                                                                         1\n",
       "July 2014                                                                                                                       1\n",
       "09 April 2009                                                                                                                   1\n",
       "02 April 2012                                                                                                                   1\n",
       "1 July 2013                                                                                                                     1\n",
       "The course is planned in the first half of October;\\r\\nthe exact dates will be announced in July 2008.                          1\n",
       "Two week general training course 13  26 September,\\r\\n2004 . One month on-the-job training 27 September  25 October, 2004       1\n",
       "Mid April                                                                                                                       1\n",
       "08 July 2013                                                                                                                    1\n",
       "30 March, 19:00-21:00                                                                                                           1\n",
       "10 August 2009                                                                                                                  1\n",
       "February  2007                                                                                                                  1\n",
       "July, 2004                                                                                                                      1\n",
       "Begining of November 2005                                                                                                       1\n",
       "Beginning of March 2006                                                                                                         1\n",
       "June-July 2012                                                                                                                  1\n",
       "Name: StartDate, Length: 1140, dtype: int64"
      ]
     },
     "execution_count": 11,
     "metadata": {},
     "output_type": "execute_result"
    }
   ],
   "source": [
    "df_clean.StartDate.value_counts()"
   ]
  },
  {
   "cell_type": "code",
   "execution_count": 12,
   "metadata": {},
   "outputs": [],
   "source": [
    "for entry in asap_list:\n",
    "    assert entry not in df_clean.StartDate.values "
   ]
  }
 ],
 "metadata": {
  "kernelspec": {
   "display_name": "Python 3",
   "language": "python",
   "name": "python3"
  },
  "language_info": {
   "codemirror_mode": {
    "name": "ipython",
    "version": 3
   },
   "file_extension": ".py",
   "mimetype": "text/x-python",
   "name": "python",
   "nbconvert_exporter": "python",
   "pygments_lexer": "ipython3",
   "version": "3.6.4"
  }
 },
 "nbformat": 4,
 "nbformat_minor": 2
}
